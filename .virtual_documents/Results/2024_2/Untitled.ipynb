# Intel Xeon Gold 6126 (Skylake), x86_64, 2.60GHz, 2 CPUs/node, 12 cores/CPU

colors = ['darkcyan', 'mediumturquoise', 'blue', 'orange', 'red']
i = 0

p1 = figure(title="Time", tools=TOOLS, width=450, height=450, background_fill_color="#fafafa")
p2 = figure(title="Error", tools=TOOLS, width=450, height=450, background_fill_color="#fafafa")

p1.xaxis.axis_label = 'N'
p1.yaxis.axis_label = 'Time ( ms )'
p2.xaxis.axis_label = 'N'
p2.yaxis.axis_label = 'MSE'

errors_total = list()

for label in labels_chifflot8_cpu:
    times = list()
    errors = list()
    data_err = data_chifflot8_cpu[label]
    sizes = [key for key, value in data_err.items()]
    for size in sizes:
        times.append(data_err[size]['time'])
        errors.append(data_err[size]['error'])
    sizes = list(map(int, sizes))
    
    data_plot = pd.DataFrame({'size':sizes, 'time':times, 'error':errors})
    
    errors_total += [errors]
    errors = list(map(float, errors))
    errors_t = dict()
    errors_t['sizes'] = sizes
    for key, value in zip(labels_chifflot8_cpu, errors_total):
        errors_t[key] = value
        
    source_chifflot8_cpu_errors = ColumnDataSource(pd.DataFrame(errors_t))
    
    data_plot['error_low'] = data_plot['time'] - np.array(errors)
    data_plot['error_high'] = data_plot['time'] + np.array(errors)
    data_plot = data_plot.sort_values(by=['size'], ascending=True)
    data_plot = data_plot.reset_index(drop=True)
    
    source_chifflot8_cpu = ColumnDataSource(data_plot)

    if label != 'serial':
        p1.square(source=source_chifflot8_cpu, x='size', y='time', legend_label=labels_chifflot8_cpu[i], fill_color=colors[i], line_color=colors[i])
        p1.line(source=source_chifflot8_cpu, x='size', y='time', line_color=colors[i])
    
    if label != 'serial':
        p2.square(source=source_chifflot8_cpu_errors, x='sizes', y=label, legend_label=labels_chifflot8_cpu[i], color=colors[i])
    
    if label == 'mkl':
        data_mkl_chifflot8 = data_plot.copy(deep=True)
        error_mkl_chifflot8 = pd.DataFrame(errors_t)
        
    if label == 'openMP':
        data_openMP_chifflot8 = data_plot.copy(deep=True)
        error_openMP_chifflot8 = pd.DataFrame(errors_t)
        
    i=i+1

label = labels_chifflot8_sycl_cpu[0]
times = list()
errors = list()
data_err = data_chifflot8_sycl_cpu[label]
sizes = [key for key, value in data_err.items()]
for size in sizes:
    times.append(data_err[size]['time'])
    errors.append(data_err[size]['error'])
sizes = list(map(int, sizes))

data_plot = pd.DataFrame({'size':sizes, 'time':times, 'error':errors})

errors_total += [errors]
errors = list(map(float, errors))
errors_t = dict()
errors_t['sizes'] = sizes
for key, value in zip(labels_chifflot8_sycl_cpu, errors_total):
    errors_t[key] = value
    
source_chifflot8_sycl_cpu_errors = ColumnDataSource(pd.DataFrame(errors_t))

data_plot['error_low'] = data_plot['time'] - np.array(errors)
data_plot['error_high'] = data_plot['time'] + np.array(errors)
data_plot = data_plot.sort_values(by=['size'], ascending=True)
data_plot = data_plot.reset_index(drop=True)

source_sycl_chifflot8 = ColumnDataSource(data_plot)

p1.square(source=source_sycl_chifflot8, x='size', y='time', legend_label=labels_chifflot8_sycl_cpu[0], fill_color='magenta', line_color='magenta')
p1.line(source=source_sycl_chifflot8, x='size', y='time', line_color='magenta')
p2.square(source=source_chifflot8_sycl_cpu_errors, x='sizes', y=label, legend_label=labels_chifflot8_sycl_cpu[0], color='magenta')


if label == 'sycl_cpu':
    data_sycl_cpu_chifflot8 = data_plot.copy(deep=True)
    error_sycl_cpu_chifflot8 = pd.DataFrame(errors_t)


maxi = max(max([sublist[:] for sublist in errors_total]))

p2.y_range.end = maxi*1.1
p1.legend.location = "top_left"
p2.legend.location = "top_left"

#show(gridplot([p1, p2], ncols=2))
show(column(Div(text=" Intel Xeon Gold 6126 (Skylake), x86_64, 2.60GHz, 2 CPUs/node, 12 cores/CPU"), row(p1, p2)))
