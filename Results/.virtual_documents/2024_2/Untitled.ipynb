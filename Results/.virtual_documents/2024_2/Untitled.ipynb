from bokeh.layouts import gridplot
from bokeh.plotting import figure, show
from bokeh.io import output_notebook
from bokeh.models import ColumnDataSource
from bokeh.layouts import column,row
from bokeh.models import Div
from bokeh.palettes import Spectral6

import json
import pandas as pd
import matplotlib.pyplot as plt
import numpy as np

TOOLS = "pan,wheel_zoom,box_zoom,reset,save,box_select"

output_notebook();








data_chifflot8_cpu = json.load(open('chifflot-8/results_cpu.json', 'r'))
labels_chifflot8_cpu = [key for key, value in data_chifflot8_cpu.items()]

data_chifflot8_gpu = json.load(open('chifflot-8/results_gpu.json', 'r'))
labels_chifflot8_gpu = [key for key, value in data_chifflot8_gpu.items()]

data_chifflot8_sycl_cpu = json.load(open('chifflot-8/results_sycl_cpu.json', 'r'))
labels_chifflot8_sycl_cpu = [key for key, value in data_chifflot8_sycl_cpu.items()]

data_chifflot8_sycl_gpu = json.load(open('chifflot-8/results_sycl_gpu.json', 'r'))
labels_chifflot8_sycl_gpu = [key for key, value in data_chifflot8_sycl_gpu.items()]





# Intel Xeon Gold 6126 (Skylake), x86_64, 2.60GHz, 2 CPUs/node, 12 cores/CPU

colors = ['darkcyan', 'mediumturquoise', 'blue', 'orange', 'red']
i = 0

p1 = figure(title="Time", tools=TOOLS, width=450, height=450, background_fill_color="#fafafa")
p2 = figure(title="Error", tools=TOOLS, width=450, height=450, background_fill_color="#fafafa")

p1.xaxis.axis_label = 'N'
p1.yaxis.axis_label = 'Time ( ms )'
p2.xaxis.axis_label = 'N'
p2.yaxis.axis_label = 'MSE'

errors_total = list()

for label in labels_chifflot8_cpu:
    times = list()
    errors = list()
    data_err = data_chifflot8_cpu[label]
    sizes = [key for key, value in data_err.items()]
    for size in sizes:
        times.append(data_err[size]['time'])
        errors.append(data_err[size]['error'])
    sizes = list(map(int, sizes))
    
    data_plot = pd.DataFrame({'size':sizes, 'time':times, 'error':errors})
    
    errors_total += [errors]
    errors = list(map(float, errors))
    errors_t = dict()
    errors_t['sizes'] = sizes
    for key, value in zip(labels_chifflot8_cpu, errors_total):
        errors_t[key] = value
        
    source_chifflot8_cpu_errors = ColumnDataSource(pd.DataFrame(errors_t))
    
    data_plot['error_low'] = data_plot['time'] - np.array(errors)
    data_plot['error_high'] = data_plot['time'] + np.array(errors)
    data_plot = data_plot.sort_values(by=['size'], ascending=True)
    data_plot = data_plot.reset_index(drop=True)
    
    source_chifflot8_cpu = ColumnDataSource(data_plot)
    
    p1.square(source=source_chifflot8_cpu, x='size', y='time', legend_label=labels_chifflot8_cpu[i], fill_color=None, line_color=colors[i])
    p1.line(source=source_chifflot8_cpu, x='size', y='time', line_color=colors[i])
    
    if label != 'serial':
        p2.square(source=source_chifflot8_cpu_errors, x='sizes', y=label, legend_label=labels_chifflot8_cpu[i], color=colors[i])
    
    if label == 'mkl':
        data_mkl_chifflot8 = data_plot.copy(deep=True)
        error_mkl_chifflot8 = pd.DataFrame(errors_t)
        
    if label == 'openMP':
        data_openMP_chifflot8 = data_plot.copy(deep=True)
        error_openMP_chifflot8 = pd.DataFrame(errors_t)
        
    i=i+1

label = labels_chifflot8_sycl_cpu[0]
times = list()
errors = list()
data_err = data_chifflot8_sycl_cpu[label]
sizes = [key for key, value in data_err.items()]
for size in sizes:
    times.append(data_err[size]['time'])
    errors.append(data_err[size]['error'])
sizes = list(map(int, sizes))

data_plot = pd.DataFrame({'size':sizes, 'time':times, 'error':errors})

errors_total += [errors]
errors = list(map(float, errors))
errors_t = dict()
errors_t['sizes'] = sizes
for key, value in zip(labels_chifflot8_sycl_cpu, errors_total):
    errors_t[key] = value
    
source_chifflot8_sycl_cpu_errors = ColumnDataSource(pd.DataFrame(errors_t))

data_plot['error_low'] = data_plot['time'] - np.array(errors)
data_plot['error_high'] = data_plot['time'] + np.array(errors)
data_plot = data_plot.sort_values(by=['size'], ascending=True)
data_plot = data_plot.reset_index(drop=True)

source_sycl_chifflot8 = ColumnDataSource(data_plot)

p1.square(source=source_sycl_chifflot8, x='size', y='time', legend_label=labels_chifflot8_sycl_cpu[0], fill_color=None, line_color='magenta')
p1.line(source=source_sycl_chifflot8, x='size', y='time', line_color='magenta')
p2.square(source=source_chifflot8_sycl_cpu_errors, x='sizes', y=label, legend_label=labels_chifflot8_sycl_cpu[0], color='magenta')


if label == 'sycl_cpu':
    data_sycl_cpu_chifflot8 = data_plot.copy(deep=True)
    error_sycl_cpu_chifflot8 = pd.DataFrame(errors_t)


maxi = max(max([sublist[:] for sublist in errors_total]))

p2.y_range.end = maxi*1.1
p1.legend.location = "top_left"
p2.legend.location = "top_left"

#show(gridplot([p1, p2], ncols=2))
show(column(Div(text=" Intel Xeon Gold 6126 (Skylake), x86_64, 2.60GHz, 2 CPUs/node, 12 cores/CPU"), row(p1, p2)))


# SyCL
p1 = figure(title="Time", tools=TOOLS, width=450, height=450, background_fill_color="#fafafa")
p2 = figure(title="Error", tools=TOOLS, width=450, height=450, background_fill_color="#fafafa")

p1.xaxis.axis_label = 'N'
p1.yaxis.axis_label = 'Time ( ms )'
p2.xaxis.axis_label = 'N'
p2.yaxis.axis_label = 'MSE'

source_mkl_chifflot8 = ColumnDataSource(data_mkl_chifflot8)
source_mkl_errors_chifflot8 = ColumnDataSource(error_mkl_chifflot8)

source_openmp_chifflot8 = ColumnDataSource(data_openMP_chifflot8)
source_openmp_errors_chifflot8 = ColumnDataSource(error_openMP_chifflot8)

source_sycl_cpu_chifflot8 = ColumnDataSource(data_sycl_cpu_chifflot8)
source_sycl_cpu_errors_chifflot8 = ColumnDataSource(error_sycl_cpu_chifflot8)


p1.square(source=source_mkl_chifflot8, x='size', y='time', legend_label='mkl', fill_color=None, line_color='blue')
p1.line(source=source_mkl_chifflot8, x='size', y='time', line_color='blue')

p1.square(source=source_openmp_chifflot8, x='size', y='time', legend_label='openMP', fill_color=None, line_color='darkturquoise')
p1.line(source=source_openmp_chifflot8, x='size', y='time', line_color='darkturquoise')

p1.square(source=source_sycl_cpu_chifflot8, x='size', y='time', legend_label='sycl_cpu', fill_color=None, line_color='magenta')
p1.line(source=source_sycl_cpu_chifflot8, x='size', y='time', line_color='magenta')

p1.legend.location = "top_left"

p2.square(source=source_mkl_errors_chifflot8, x='sizes', y='mkl', legend_label='mkl', color='blue', fill_alpha=0.4)
p2.square(source=source_openmp_errors_chifflot8, x='sizes', y='openMP', legend_label='openMP', color='darkturquoise', fill_alpha=0.4)
p2.square(source=source_sycl_cpu_errors_chifflot8, x='sizes', y='sycl_cpu', legend_label='syCL_cpu', color='magenta', fill_alpha=0.4)


p2.y_range.end = maxi*1.1
p2.legend.location = "top_left"


show(column(Div(text=" Intel Xeon Gold 6126 (Skylake), x86_64, 2.60GHz, 2 CPUs/node, 12 cores/CPU"), row(p1, p2)))






