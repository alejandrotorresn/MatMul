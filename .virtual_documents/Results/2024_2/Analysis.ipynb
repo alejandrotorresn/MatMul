from bokeh.layouts import gridplot
from bokeh.plotting import figure, show
from bokeh.io import output_notebook
from bokeh.models import ColumnDataSource
from bokeh.layouts import column,row
from bokeh.models import Div
from bokeh.palettes import Spectral6

import json
import pandas as pd
import matplotlib.pyplot as plt

import numpy as np

import os

TOOLS = "pan,wheel_zoom,box_zoom,reset,save,box_select"

output_notebook();






def load_data(server, names):
    # names = ['cpu', 'gpu', 'sycl_cpu', 'sycl_gpu']
    # data = load_data("chifflot-8", names)
    data = dict()
    for name in names:
        data_aux = json.load(open(server + '/results_' + name + '.json', 'r'))
        labels = [key for key, value in data_aux.items()]
        data[name] = [data_aux, labels]      
    return data


def papi_load_data(server, names):
    # names = ['cpu', 'gpu', 'sycl_cpu', 'sycl_gpu']
    # data = extract_data(data['cpu'])
    data = dict()
    for name in names:
        data[name] = json.load(open(server + '/papi/' + name + '.json', 'r')) ['threads']['0']['regions']
    return data


def perf_load_data(path, names):
    perf_df = pd.DataFrame(columns=names)
    dir_list = os.listdir(path)
    for file in dir_list:
        path_tmp = path + file
        i = 1
        if os.path.isdir(path_tmp) == False:
            with open (path_tmp, "r") as myfile:
                Lines = myfile.readlines()
                count = 0
                for line in Lines:
                    count += 1
                    if ( count == 6 ):
                        energy_pkg = line.strip().split()[0].replace(',', '')
                    if ( count == 7 ):
                        energy_ram = line.strip().split()[0].replace(',', '')
                    if ( count == 9 ):
                        time_elapsed = line.strip().split()[0].replace(',', '')
                index = path_tmp.strip().split('/')[2].split('.')[0].split('_')[1:4]
                if (len(index) == 2):
                    perf_df.loc[int(index[1]), index[0]] = [energy_pkg, energy_ram, time_elapsed]
                else:
                    perf_df.loc[int(index[2]), index[0] + "_" + index[1] ] = [energy_pkg, energy_ram, time_elapsed]       
    
    perf_df = perf_df.sort_index(ascending=True)

    return perf_df


def extract_data(data_):
    # data_cpu[0] -> data
    # data_cpu[1] -> labels
    data_total = dict()
    for label in data_[1]:
        data_aux = data_[0][label]
        sizes = [key for key, value in data_aux.items()]
        data = pd.DataFrame(columns=['times', 'errors'])
        for size in sizes: 
            data.loc[int(size), 'times'] = data_aux[size]['time']
            data.loc[int(size), 'errors'] = data_aux[size]['error']
        data = data.sort_index(ascending=True)
        data_total[label] = data
    return data_total


def extract_data_papi(iterations, sizes, data_source):
    # - GPU miliWatts
    # - CPU nanoJoules
    data_papi = dict()
    
    for label in data_source.keys():
        data = data_source[label]
        data_papi_df = pd.DataFrame(columns=['energy_0', 'energy_1', 'dram_energy_0', 'dram_energy_1', 'real_time_sec'])
        for key in data.keys():
            data_aux = data[key]
            for item in data_aux:
                if item == 'rapl:::PACKAGE_ENERGY:PACKAGE0':
                    data_papi_df.loc[sizes[int(key)], 'energy_0'] = (int(data_aux[item])*1e-9)/iterations
                if item == 'rapl:::PACKAGE_ENERGY:PACKAGE1':
                    data_papi_df.loc[sizes[int(key)], 'energy_1'] = (int(data_aux[item])*1e-9)/iterations
                if item == 'rapl:::DRAM_ENERGY:PACKAGE0':
                    data_papi_df.loc[sizes[int(key)], 'dram_energy_0'] = (int(data_aux[item])*1e-9)/iterations
                if item == 'rapl:::DRAM_ENERGY:PACKAGE1':
                    data_papi_df.loc[sizes[int(key)], 'dram_energy_1'] = (int(data_aux[item])*1e-9)/iterations
                if item == 'nvml:::Tesla_V100-PCIE-32GB:device_0:power':
                    data_papi_df.loc[sizes[int(key)], 'gpu_tesla_v100_power'] = (int(data_aux[item])*1e-3)/iterations
                if item == 'nvml:::NVIDIA_A100-PCIE-40GB:device_0:power':
                    data_papi_df.loc[sizes[int(key)], 'gpu_amper_A100_power'] = (int(data_aux[item])*1e-3)/iterations               
                if item == 'real_time_nsec':
                    data_papi_df.loc[sizes[int(key)], 'real_time_sec'] = (int(data_aux[item])*1e-9)/iterations
        data_papi[label] = data_papi_df
        
    return data_papi


def plot_data(data_list=[dict()], custom=0, names=[]):
    
    colors = {'avx2':'darkcyan', 'avx512':'mediumturquoise', 'mkl':'blue', 'openMP':'orange', 'sycl_cpu':'magenta', 
              'cuBLAS':'mediumseagreen', 'cuBLAS_Tensor':'brown', 'cuBLAS_async':'dodgerblue', 'cudaNaive':'deeppink', 
              'cudaTiled':'darkviolet', 'sycl_gpu': 'goldenrod'}
    
    p1 = figure(title="Time", tools=TOOLS, width=450, height=450, background_fill_color="#fafafa")
    p2 = figure(title="Error", tools=TOOLS, width=450, height=450, background_fill_color="#fafafa")
    
    p1.xaxis.axis_label = 'N'
    p1.yaxis.axis_label = 'Time ( ms )'
    p2.xaxis.axis_label = 'N'
    p2.yaxis.axis_label = 'MSE'

    if custom == 0:
        for data in data_list:
            for key in data.keys():
                if key != 'serial':
                    data[key]['size'] = data[key].index
                    data_source = ColumnDataSource(data[key])
                    p1.square(source=data_source, x='size', y='times', legend_label=key, fill_color=colors[key], line_color=colors[key])
                    p1.line(source=data_source, x='size', y='times', line_color=colors[key])
                    p2.square(source=data_source, x='size', y='errors', legend_label=key, color=colors[key])
        p1.legend.location = "top_left"
        p2.legend.location = "top_left"
        show(gridplot([p1, p2], ncols=2))
    else:
        if names:
            not_found = list()
            for data in data_list:
                for name in names:
                    for key in data.keys():
                        if key == name:
                            data[name]['size'] = data[name].index
                            data_source = ColumnDataSource(data[name])
                            p1.square(source=data_source, x='size', y='times', legend_label=name, fill_color=colors[name], line_color=colors[name])
                            p1.line(source=data_source, x='size', y='times', line_color=colors[name])
                            p2.square(source=data_source, x='size', y='errors', legend_label=name, color=colors[name])
                            break
            p1.legend.location = "top_left"
            p2.legend.location = "top_left"
            show(gridplot([p1, p2], ncols=2))                   
        else:
            print("Error, list of names is empty!")
# show(column(Div(text=" Intel Xeon Gold 6126 (Skylake), x86_64, 2.60GHz, 2 CPUs/node, 12 cores/CPU"), row(p1, p2)))    


def plot_data_papi(data_source, names=[], pos=0):
    
    colors = {'avx2':'darkcyan', 'avx512':'mediumturquoise', 'mkl':'blue', 'openmp':'orange', 'sycl_cpu':'magenta', 
              'cublas':'mediumseagreen', 'cublas_tensor':'brown', 'cublas_async':'dodgerblue', 'cuda_naive':'deeppink', 
              'cuda_tiled':'darkviolet', 'sycl_gpu': 'goldenrod'}
    
    names_cpu = ['avx2', 'avx512', 'mkl', 'openmp', 'sycl_cpu']
    names_gpu = ['cuda_naive', 'cuda_tiled', 'cublas', 'cublas_async', 'cublas_tensor', 'sycl_gpu']
    
    p1 = figure(title="Energy Average", tools=TOOLS, width=450, height=450, background_fill_color="#fafafa")
    p2 = figure(title="Power Consumption", tools=TOOLS, width=450, height=450, background_fill_color="#fafafa")
    p1.xaxis.axis_label = 'N'
    p1.yaxis.axis_label = 'Energy ( Joules )'
    p2.xaxis.axis_label = 'N'
    p2.yaxis.axis_label = 'Power Consumption ( Watts )'
        
    if names:
        for key in names:
            data = data_source[key]
            data_aux = pd.DataFrame(index=data.index)
            data_aux['size'] = data.index
            data_aux['power'] = ( (data['energy_0'] + data['energy_1'] + data['dram_energy_0'] + data['dram_energy_1']) / 4.0).tolist()
            data_aux['energy'] = ( data_aux['power'] / data['real_time_sec'] ).tolist()

            # if GPU works
            for label in names_gpu:
                if key == label:
                    if 'gpu_tesla_v100_power' in data.columns:
                        data_aux['power'] = ( data_aux['power'] + (data['gpu_tesla_v100_power'] * data['real_time_sec']) ).tolist()
                        data_aux['energy'] = ( data_aux['energy'] +  data['gpu_tesla_v100_power'] ).tolist()
                    elif 'gpu_amper_A100_power' in data.columns:
                        data_aux['power'] = ( data_aux['power'] + (data['gpu_amper_A100_power'] * data['real_time_sec']) ).tolist()
                        data_aux['energy'] = ( data_aux['energy'] +  data['gpu_amper_A100_power'] ).tolist()
                    
            
            data_plot = ColumnDataSource(data_aux)
            
            p1.square(source=data_plot, x='size', y='power', legend_label=key, fill_color=colors[key], line_color=colors[key])
            p1.line(source=data_plot, x='size', y='power', line_color=colors[key])
            p2.square(source=data_plot, x='size', y='energy', legend_label=key, fill_color=colors[key], line_color=colors[key])
            p2.line(source=data_plot, x='size', y='energy', line_color=colors[key])
        
    else:
        for key in data_source.keys():
            data = data_source[key]
            data_aux = pd.DataFrame(index=data.index)
            data_aux['size'] = data.index
            data_aux['power'] = ( (data['energy_0'] + data['energy_1'] + data['dram_energy_0'] + data['dram_energy_1']) / 4.0).tolist()
            data_aux['energy'] = ( data_aux['power'] / data['real_time_sec'] ).tolist()

            # if GPU works
            for label in names_gpu:
                if key == label:
                    if 'gpu_tesla_v100_power' in data.columns:
                        data_aux['power'] = ( data_aux['power'] + (data['gpu_tesla_v100_power'] * data['real_time_sec']) ).tolist()
                        data_aux['energy'] = ( data_aux['energy'] +  data['gpu_tesla_v100_power'] ).tolist()
                    elif 'gpu_amper_A100_power' in data.columns:
                        data_aux['power'] = ( data_aux['power'] + (data['gpu_amper_A100_power'] * data['real_time_sec']) ).tolist()
                        data_aux['energy'] = ( data_aux['energy'] +  data['gpu_amper_A100_power'] ).tolist()
            
            data_plot = ColumnDataSource(data_aux)
            
            p1.square(source=data_plot, x='size', y='power', legend_label=key, fill_color=colors[key], line_color=colors[key])
            p1.line(source=data_plot, x='size', y='power', line_color=colors[key])
            p2.square(source=data_plot, x='size', y='energy', legend_label=key, fill_color=colors[key], line_color=colors[key])
            p2.line(source=data_plot, x='size', y='energy', line_color=colors[key])
    if pos == 0:
        p1.legend.location = "top_left"
        p2.legend.location = "top_right"
    if pos == 1:
        p1.legend.location = "top_left"
        p2.legend.location = "bottom_right"
    if pos == 2:
        p1.legend.location = "top_left"
        p2.legend.location = "center_right"
    
    show(gridplot([p1, p2], ncols=2))


def plot_data_perf(data_source, names, sizes, iterations, pos=0):
    # --------------------------------------------------------------------------------------------------------------
    # Notes:
    # - power/energy-pkg/ Joules
    # - power/energy-ram/ Joules                                            
    # - time elapsed seconds
    # - power/energy-pkg  : power consumption of all cores + LLC cache
    # - power/energy-dram : power consumption of DRAM (servers only)
    # --------------------------------------------------------------------------------------------------------------
    
    colors = {'avx2':'darkcyan', 'avx512':'mediumturquoise', 'mkl':'blue', 'openmp':'orange', 'sycl_cpu':'magenta', 
              'cublas':'mediumseagreen', 'cublas_tensor':'brown', 'cublas_async':'dodgerblue', 'cuda_naive':'deeppink', 
              'cuda_tiled':'darkviolet', 'sycl_gpu': 'goldenrod'}
        
    names_cpu = ['avx2', 'avx512', 'mkl', 'openmp', 'sycl_cpu']
    names_gpu = ['cuda_naive', 'cuda_tiled', 'cublas', 'cublas_async', 'cublas_tensor', 'sycl_gpu']
    
    p1 = figure(title="Energy Average", tools=TOOLS, width=450, height=450, background_fill_color="#fafafa")
    p2 = figure(title="Power Consumption", tools=TOOLS, width=450, height=450, background_fill_color="#fafafa")
    p1.xaxis.axis_label = 'N'
    p1.yaxis.axis_label = 'Energy ( Joules )'
    p2.xaxis.axis_label = 'N'
    p2.yaxis.axis_label = 'Power Consumption ( Watts )'
    
    for name in names:
        data_aux = pd.DataFrame(index=sizes, columns=['power', 'time'])
        data_aux['size'] = data_source[name].to_frame().index
        for size in sizes:
            data_aux.loc[int(size), 'power'] = float(data_source[name][size][0]) + float(data_source[name][size][1])
            data_aux.loc[int(size), 'time'] = float(data_source[name][size][2])
            data_aux['energy'] = (data_aux['power'] / data_aux['time']).to_list()
        data_plot = ColumnDataSource(data_aux)
    
        p1.square(source=data_plot, x='size', y='power', legend_label=name, fill_color=colors[name], line_color=colors[name])
        p1.line(source=data_plot, x='size', y='power', line_color=colors[name])
        p2.square(source=data_plot, x='size', y='energy', legend_label=name, fill_color=colors[name], line_color=colors[name])
        p2.line(source=data_plot, x='size', y='energy', line_color=colors[name])

    p1.legend.location = "top_left"
    p2.legend.location = "top_left"
        
    show(gridplot([p1, p2], ncols=2))








names = ['cpu', 'gpu', 'sycl_cpu', 'sycl_gpu']
data = load_data("chifflot-8", names)

data_cpu = extract_data(data['cpu'])
data_sycl_cpu = extract_data(data['sycl_cpu'])

data_gpu = extract_data(data['gpu'])
data_sycl_gpu = extract_data(data['sycl_gpu'])





plot_data([data_cpu, data_sycl_cpu])


plot_data([data_cpu, data_sycl_cpu], 1, ['mkl', 'openMP', 'sycl_cpu'])





#Nvidia Tesla V100-PCIE-32GB (32 GiB)
plot_data([data_gpu, data_sycl_gpu])


plot_data([data_gpu, data_sycl_gpu], 1, ['cuBLAS_Tensor', 'cuBLAS_async', 'cuBLAS', 'sycl_gpu'])





plot_data([data_cpu, data_sycl_cpu, data_gpu, data_sycl_gpu], 1, ['mkl', 'openMP', 'sycl_cpu', 'cuBLAS_Tensor', 'cuBLAS_async', 'cuBLAS'])


plot_data([data_cpu, data_gpu], 1, ['mkl', 'cuBLAS_Tensor', 'cuBLAS'])


plot_data([data_cpu, data_gpu], 1, ['mkl', 'cuBLAS'])





names = ['avx2', 'avx512', 'mkl', 'openmp', 'cuda_naive', 'cuda_tiled', 'cublas', 'cublas_async', 'cublas_tensor', 'sycl_cpu', 'sycl_gpu']
perf_chifflot8_data = perf_load_data("chifflot-8/perf/", names)
papi_chifflot8_data = papi_load_data("chifflot-8", names)





# --------------------------------------------------------------------------------------------------------------
# Notes:
# - Los datos se tomaron 20 veces, de debe promediar
# - Los datos de GPU esta en miliWatts
# - Los datos en CPU esta en nanoJoules
# --------------------------------------------------------------------------------------------------------------
iterations = 20
sizes = [32, 48, 64, 80, 96, 112, 128, 256, 384, 512, 640, 768, 896, 1024, 2048, 3072, 4096, 5120, 6144, 7168, 8192]
papi_chifflot8_data_plot = extract_data_papi(iterations, sizes, papi_chifflot8_data)


names = ['avx2', 'avx512', 'mkl', 'openmp', 'sycl_cpu']
plot_data_papi(papi_chifflot8_data_plot, names)


names = ['mkl', 'openmp', 'sycl_cpu']
plot_data_papi(papi_chifflot8_data_plot, names, 1)


names = ['cublas', 'cublas_async', 'sycl_gpu']
plot_data_papi(papi_chifflot8_data_plot, names, 1)


names = ['cublas', 'cublas_tensor']
plot_data_papi(papi_chifflot8_data_plot, names)





names = ['mkl', 'sycl_cpu', 'cublas', 'cublas_tensor']
plot_data_papi(papi_chifflot8_data_plot, names, 2)





# --------------------------------------------------------------------------------------------------------------
# Notes:
# - Los datos se tomaron 20 veces, de debe promediar
# - power/energy-pkg/ Joules
# - power/energy-ram/ Joules                                            
# - time elapsed seconds
# - power/energy-pkg  : power consumption of all cores + LLC cache
# - power/energy-dram : power consumption of DRAM (servers only)
# --------------------------------------------------------------------------------------------------------------
names = ['avx2', 'avx512', 'mkl', 'openmp', 'sycl_cpu']
sizes = [32, 48, 64, 80, 96, 112, 128, 256, 384, 512, 640, 768, 896, 1024, 2048, 3072, 4096, 5120, 6144, 7168, 8192]
iterations = 20
plot_data_perf(perf_chifflot8_data, names, sizes, iterations)


def plot_data_papi(data_source, names=[], pos=0):
    
    colors = {'avx2':'darkcyan', 'avx512':'mediumturquoise', 'mkl':'blue', 'openmp':'orange', 'sycl_cpu':'magenta', 
              'cublas':'mediumseagreen', 'cublas_tensor':'brown', 'cublas_async':'dodgerblue', 'cuda_naive':'deeppink', 
              'cuda_tiled':'darkviolet', 'sycl_gpu': 'goldenrod'}
    
    names_cpu = ['avx2', 'avx512', 'mkl', 'openmp', 'sycl_cpu']
    names_gpu = ['cuda_naive', 'cuda_tiled', 'cublas', 'cublas_async', 'cublas_tensor', 'sycl_gpu']
    
    p1 = figure(title="Energy Average", tools=TOOLS, width=450, height=450, background_fill_color="#fafafa")
    p2 = figure(title="Power Consumption", tools=TOOLS, width=450, height=450, background_fill_color="#fafafa")
    p1.xaxis.axis_label = 'N'
    p1.yaxis.axis_label = 'Energy ( Joules )'
    p2.xaxis.axis_label = 'N'
    p2.yaxis.axis_label = 'Power Consumption ( Watts )'
        
    if names:
        for key in names:
            data = data_source[key]
            data_aux = pd.DataFrame(index=data.index)
            data_aux['size'] = data.index
            data_aux['power'] = ( (data['energy_0'] + data['energy_1'] + data['dram_energy_0'] + data['dram_energy_1']) / 4.0).tolist()
            data_aux['energy'] = ( data_aux['power'] / data['real_time_sec'] ).tolist()

            # if GPU works
            for label in names_gpu:
                if key == label:
                    if 'gpu_tesla_v100_power' in data.columns:
                        data_aux['power'] = ( data_aux['power'] + (data['gpu_tesla_v100_power'] * data['real_time_sec']) ).tolist()
                        data_aux['energy'] = ( data_aux['energy'] +  data['gpu_tesla_v100_power'] ).tolist()
                    elif 'gpu_amper_A100_power' in data.columns:
                        data_aux['power'] = ( data_aux['power'] + (data['gpu_amper_A100_power'] * data['real_time_sec']) ).tolist()
                        data_aux['energy'] = ( data_aux['energy'] +  data['gpu_amper_A100_power'] ).tolist()
                    
            
            data_plot = ColumnDataSource(data_aux)
            
            p1.square(source=data_plot, x='size', y='power', legend_label=key, fill_color=colors[key], line_color=colors[key])
            p1.line(source=data_plot, x='size', y='power', line_color=colors[key])
            p2.square(source=data_plot, x='size', y='energy', legend_label=key, fill_color=colors[key], line_color=colors[key])
            p2.line(source=data_plot, x='size', y='energy', line_color=colors[key])
        
    else:
        for key in data_source.keys():
            data = data_source[key]
            data_aux = pd.DataFrame(index=data.index)
            data_aux['size'] = data.index
            data_aux['power'] = ( (data['energy_0'] + data['energy_1'] + data['dram_energy_0'] + data['dram_energy_1']) / 4.0).tolist()
            data_aux['energy'] = ( data_aux['power'] / data['real_time_sec'] ).tolist()

            # if GPU works
            for label in names_gpu:
                if key == label:
                    if 'gpu_tesla_v100_power' in data.columns:
                        data_aux['power'] = ( data_aux['power'] + (data['gpu_tesla_v100_power'] * data['real_time_sec']) ).tolist()
                        data_aux['energy'] = ( data_aux['energy'] +  data['gpu_tesla_v100_power'] ).tolist()
                    elif 'gpu_amper_A100_power' in data.columns:
                        data_aux['power'] = ( data_aux['power'] + (data['gpu_amper_A100_power'] * data['real_time_sec']) ).tolist()
                        data_aux['energy'] = ( data_aux['energy'] +  data['gpu_amper_A100_power'] ).tolist()
            
            data_plot = ColumnDataSource(data_aux)
            
            p1.square(source=data_plot, x='size', y='power', legend_label=key, fill_color=colors[key], line_color=colors[key])
            p1.line(source=data_plot, x='size', y='power', line_color=colors[key])
            p2.square(source=data_plot, x='size', y='energy', legend_label=key, fill_color=colors[key], line_color=colors[key])
            p2.line(source=data_plot, x='size', y='energy', line_color=colors[key])
    if pos == 0:
        p1.legend.location = "top_left"
        p2.legend.location = "top_right"
    if pos == 1:
        p1.legend.location = "top_left"
        p2.legend.location = "bottom_right"
    
    show(gridplot([p1, p2], ncols=2))








names = ['cpu', 'sycl_cpu']
data = load_data("IntelXeon4", names)

data_cpu = extract_data(data['cpu'])
data_sycl_cpu = extract_data(data['sycl_cpu'])





plot_data([data_cpu, data_sycl_cpu])


plot_data([data_cpu, data_sycl_cpu], 1, ['mkl', 'openMP', 'sycl_cpu'])





names = ['avx2', 'avx512', 'mkl', 'openmp', 'sycl_cpu']
perf_IntelXeon4_data = perf_load_data("IntelXeon4/perf/", names)





# --------------------------------------------------------------------------------------------------------------
# Notes:
# - Los datos se tomaron 20 veces, de debe promediar
# - power/energy-pkg/ Joules
# - power/energy-ram/ Joules                                            
# - time elapsed seconds
# - power/energy-pkg  : power consumption of all cores + LLC cache
# - power/energy-dram : power consumption of DRAM (servers only)
# --------------------------------------------------------------------------------------------------------------
names = ['avx2', 'avx512', 'mkl', 'openmp', 'sycl_cpu']
sizes = [32, 48, 64, 80, 96, 112, 128, 256, 384, 512, 640, 768, 896, 1024, 2048, 3072, 4096, 5120, 6144, 7168, 8192]
iterations = 20
plot_data_perf(perf_IntelXeon4_data, names, sizes, iterations)








names = ['cpu', 'sycl_cpu']
data = load_data("pacca01", names)

data_cpu = extract_data(data['cpu'])
data_sycl_cpu = extract_data(data['sycl_cpu'])





plot_data([data_cpu, data_sycl_cpu])


plot_data([data_cpu, data_sycl_cpu], 1, ['mkl', 'openMP', 'sycl_cpu'])





names = ['avx2', 'avx512', 'mkl', 'openmp', 'sycl_cpu']
perf_pacca01_data = perf_load_data("pacca01/perf/", names)
papi_pacca01_data = papi_load_data("pacca01", names)





# --------------------------------------------------------------------------------------------------------------
# Notes:
# - Los datos se tomaron 20 veces, de debe promediar
# - Los datos de GPU esta en miliWatts
# - Los datos en CPU esta en nanoJoules
# --------------------------------------------------------------------------------------------------------------
iterations = 20
sizes = [32, 48, 64, 80, 96, 112, 128, 256, 384, 512, 640, 768, 896, 1024, 2048, 3072, 4096, 5120, 6144, 7168, 8192]
papi_pacca01_data_plot = extract_data_papi(iterations, sizes, papi_pacca01_data)


names = ['avx2', 'avx512', 'mkl', 'openmp', 'sycl_cpu']
plot_data_papi(papi_pacca01_data_plot, names, 1)


names = ['mkl', 'openmp', 'sycl_cpu']
plot_data_papi(papi_pacca01_data_plot, names, 1)


###  Energy Consumption/CPU - PERF
# --------------------------------------------------------------------------------------------------------------
# Notes:
# - Los datos se tomaron 20 veces, de debe promediar
# - power/energy-pkg/ Joules
# - power/energy-ram/ Joules                                            
# - time elapsed seconds
# - power/energy-pkg  : power consumption of all cores + LLC cache
# - power/energy-dram : power consumption of DRAM (servers only)
# --------------------------------------------------------------------------------------------------------------
names = ['avx2', 'avx512', 'mkl', 'openmp', 'sycl_cpu']
sizes = [32, 48, 64, 80, 96, 112, 128, 256, 384, 512, 640, 768, 896, 1024, 2048, 3072, 4096, 5120, 6144, 7168, 8192]
iterations = 20
plot_data_perf(perf_pacca01_data, names, sizes, iterations)








names = ['cpu', 'gpu', 'sycl_cpu', 'sycl_gpu']
data = load_data("paccaA100", names)

data_cpu = extract_data(data['cpu'])
data_sycl_cpu = extract_data(data['sycl_cpu'])

data_gpu = extract_data(data['gpu'])
data_sycl_gpu = extract_data(data['sycl_gpu'])





plot_data([data_cpu, data_sycl_cpu])


plot_data([data_cpu, data_sycl_cpu], 1, ['mkl', 'openMP', 'sycl_cpu'])





plot_data([data_gpu, data_sycl_gpu])


plot_data([data_gpu, data_sycl_gpu], 1, ['cuBLAS_Tensor', 'cuBLAS_async', 'cuBLAS', 'sycl_gpu'])





plot_data([data_cpu, data_sycl_cpu, data_gpu, data_sycl_gpu], 1, ['mkl', 'openMP', 'sycl_cpu', 'cuBLAS_Tensor', 'cuBLAS_async', 'cuBLAS'])


plot_data([data_cpu, data_gpu], 1, ['mkl', 'cuBLAS_Tensor', 'cuBLAS'])


plot_data([data_cpu, data_gpu], 1, ['mkl', 'cuBLAS'])





names = ['avx2', 'avx512', 'mkl', 'openmp', 'cuda_naive', 'cuda_tiled', 'cublas', 'cublas_async', 'cublas_tensor', 'sycl_cpu', 'sycl_gpu']
perf_paccaA100_data = perf_load_data("paccaA100/perf/", names)
papi_paccaA100_data = papi_load_data("paccaA100", names)





# --------------------------------------------------------------------------------------------------------------
# Notes:
# - Los datos se tomaron 20 veces, de debe promediar
# - Los datos de GPU esta en miliWatts
# - Los datos en CPU esta en nanoJoules
# --------------------------------------------------------------------------------------------------------------
iterations = 20
sizes = [32, 48, 64, 80, 96, 112, 128, 256, 384, 512, 640, 768, 896, 1024, 2048, 3072, 4096, 5120, 6144, 7168, 8192]
papi_paccaA100_data_plot = extract_data_papi(iterations, sizes, papi_paccaA100_data)


names = ['avx2', 'avx512', 'mkl', 'openmp', 'sycl_cpu']
plot_data_papi(papi_paccaA100_data_plot, names, 1)


names = ['mkl', 'openmp', 'sycl_cpu']
plot_data_papi(papi_paccaA100_data_plot, names, 1)


names = ['cublas', 'cublas_async', 'sycl_gpu']
plot_data_papi(papi_paccaA100_data_plot, names, 0)


names = ['cublas', 'cublas_tensor']
plot_data_papi(papi_paccaA100_data_plot, names, 1)





names = ['mkl', 'sycl_cpu', 'cublas', 'cublas_tensor']
plot_data_papi(papi_paccaA100_data_plot, names, 1)





# --------------------------------------------------------------------------------------------------------------
# Notes:
# - Los datos se tomaron 20 veces, de debe promediar
# - power/energy-pkg/ Joules
# - power/energy-ram/ Joules                                            
# - time elapsed seconds
# - power/energy-pkg  : power consumption of all cores + LLC cache
# - power/energy-dram : power consumption of DRAM (servers only)
# --------------------------------------------------------------------------------------------------------------
names = ['avx2', 'avx512', 'mkl', 'openmp', 'sycl_cpu']
sizes = [32, 48, 64, 80, 96, 112, 128, 256, 384, 512, 640, 768, 896, 1024, 2048, 3072, 4096, 5120, 6144, 7168, 8192]
iterations = 20
plot_data_perf(perf_chifflot8_data, names, sizes, iterations)








names = ['cpu', 'sycl_cpu']
data = load_data("roazhon13-2", names)

data_cpu = extract_data(data['cpu'])
data_sycl_cpu = extract_data(data['sycl_cpu'])





plot_data([data_cpu, data_sycl_cpu])


plot_data([data_cpu, data_sycl_cpu], 1, ['mkl', 'openMP', 'sycl_cpu'])





names = ['avx2', 'avx512', 'mkl', 'openmp', 'sycl_cpu']
perf_roazhon13_data = perf_load_data("roazhon13-2/perf/", names)
papi_roazhon13_data = papi_load_data("roazhon13-2", names)





# --------------------------------------------------------------------------------------------------------------
# Notes:
# - Los datos se tomaron 20 veces, de debe promediar
# - Los datos de GPU esta en miliWatts
# - Los datos en CPU esta en nanoJoules
# --------------------------------------------------------------------------------------------------------------
iterations = 20
sizes = [32, 48, 64, 80, 96, 112, 128, 256, 384, 512, 640, 768, 896, 1024, 2048, 3072, 4096, 5120, 6144, 7168, 8192]
papi_roazhon13_data_plot = extract_data_papi(iterations, sizes, papi_roazhon13_data)


names = ['avx2', 'avx512', 'mkl', 'openmp', 'sycl_cpu']
plot_data_papi(papi_roazhon13_data_plot, names)


names = ['mkl', 'openmp', 'sycl_cpu']
plot_data_papi(papi_roazhon13_data_plot, names, 1)





# --------------------------------------------------------------------------------------------------------------
# Notes:
# - Los datos se tomaron 20 veces, de debe promediar
# - power/energy-pkg/ Joules
# - power/energy-ram/ Joules                                            
# - time elapsed seconds
# - power/energy-pkg  : power consumption of all cores + LLC cache
# - power/energy-dram : power consumption of DRAM (servers only)
# --------------------------------------------------------------------------------------------------------------
names = ['avx2', 'avx512', 'mkl', 'openmp', 'sycl_cpu']
sizes = [32, 48, 64, 80, 96, 112, 128, 256, 384, 512, 640, 768, 896, 1024, 2048, 3072, 4096, 5120, 6144, 7168, 8192]
iterations = 20
plot_data_perf(perf_roazhon13_data, names, sizes, iterations)








names = ['cpu', 'sycl_cpu']
data = load_data("montcalm-10", names)

data_cpu = extract_data(data['cpu'])
data_sycl_cpu = extract_data(data['sycl_cpu'])





plot_data([data_cpu, data_sycl_cpu])


plot_data([data_cpu, data_sycl_cpu], 1, ['mkl', 'openMP', 'sycl_cpu'])





names = ['avx2', 'avx512', 'mkl', 'openmp', 'sycl_cpu']
perf_montcalm10_data = perf_load_data("montcalm-10/perf/", names)
papi_montcalm10_data = papi_load_data("montcalm-10", names)





# --------------------------------------------------------------------------------------------------------------
# Notes:
# - Los datos se tomaron 20 veces, de debe promediar
# - Los datos de GPU esta en miliWatts
# - Los datos en CPU esta en nanoJoules
# --------------------------------------------------------------------------------------------------------------
iterations = 20
sizes = [32, 48, 64, 80, 96, 112, 128, 256, 384, 512, 640, 768, 896, 1024, 2048, 3072, 4096, 5120, 6144, 7168, 8192]
papi_montcalm10_data_plot = extract_data_papi(iterations, sizes, papi_montcalm10_data)


names = ['avx2', 'avx512', 'mkl', 'openmp', 'sycl_cpu']
plot_data_papi(papi_montcalm10_data_plot, names)


names = ['mkl', 'openmp', 'sycl_cpu']
plot_data_papi(papi_montcalm10_data_plot, names, 1)





# --------------------------------------------------------------------------------------------------------------
# Notes:
# - Los datos se tomaron 20 veces, de debe promediar
# - power/energy-pkg/ Joules
# - power/energy-ram/ Joules                                            
# - time elapsed seconds
# - power/energy-pkg  : power consumption of all cores + LLC cache
# - power/energy-dram : power consumption of DRAM (servers only)
# --------------------------------------------------------------------------------------------------------------
names = ['avx2', 'avx512', 'mkl', 'openmp', 'sycl_cpu']
sizes = [32, 48, 64, 80, 96, 112, 128, 256, 384, 512, 640, 768, 896, 1024, 2048, 3072, 4096, 5120, 6144, 7168, 8192]
iterations = 20
plot_data_perf(perf_montcalm10_data, names, sizes, iterations)
